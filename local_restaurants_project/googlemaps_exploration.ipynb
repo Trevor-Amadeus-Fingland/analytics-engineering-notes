{
 "cells": [
  {
   "cell_type": "code",
   "execution_count": null,
   "metadata": {},
   "outputs": [],
   "source": [
    "# import necessary libraries for restaurant extraction\n",
    "import pandas as pd # for data manipulation\n",
    "import googlemaps # package that consolidates googlemaps api functionality\n",
    "import requests as req # to retrieve api \n",
    "from dotenv import load_dotenv\n",
    "import os  # os and dotenv are for retrieving hidden enviroment variables.\n"
   ]
  },
  {
   "cell_type": "code",
   "execution_count": null,
   "metadata": {},
   "outputs": [],
   "source": [
    "# assign api key from env file\n",
    "gmaps_key   = os.getenv('gmaps_key')\n",
    "address = os.getenv('location_to_use')\n",
    "print(gmaps_key)\n",
    "print(address)"
   ]
  },
  {
   "cell_type": "code",
   "execution_count": null,
   "metadata": {},
   "outputs": [],
   "source": [
    "\n",
    "gmaps = googlemaps.Client(key=gmaps_key)\n",
    "address = '6600 Louisburg Rd C, Raleigh, NC' # Wake Tech North Campus\n",
    "# It is a good public location for me to use as a center point for the gmaps api"
   ]
  },
  {
   "cell_type": "code",
   "execution_count": null,
   "metadata": {},
   "outputs": [],
   "source": [
    "# test geocode function of googlemap library\n",
    "# example shows how to take an address you may know then convert to lat/long\n",
    "example = gmaps.geocode(address = address)[0] # necessary as it is stored a dict inside a length 1 list\n",
    "# return keys and values stored within geocode object\n",
    "for key in example:\n",
    "    print(key)\n",
    "    print(example[key])\n"
   ]
  },
  {
   "cell_type": "code",
   "execution_count": null,
   "metadata": {},
   "outputs": [],
   "source": [
    "# retrieve coordinates for use in places query \n",
    "location = example['geometry']['location']\n",
    "search_radius = 5000\n",
    "print(location)"
   ]
  },
  {
   "cell_type": "code",
   "execution_count": null,
   "metadata": {},
   "outputs": [],
   "source": [
    "# perform test search looking in small radius, 5km\n",
    "test_places = gmaps.places(query = '',location = location, radius = search_radius, type = 'restaurant')\n",
    "for x in test_places:\n",
    "    print(x)\n",
    "    print(test_places[x])"
   ]
  },
  {
   "cell_type": "code",
   "execution_count": null,
   "metadata": {},
   "outputs": [],
   "source": [
    "next_page = 'counter = 0 #initialize counter'\n",
    "test_places = gmaps.places(query = '',location = location, radius = search_radius, type = 'restaurant',page_token=test)"
   ]
  },
  {
   "cell_type": "code",
   "execution_count": null,
   "metadata": {},
   "outputs": [],
   "source": [
    "print(next_page)"
   ]
  },
  {
   "cell_type": "code",
   "execution_count": null,
   "metadata": {},
   "outputs": [],
   "source": [
    "import time \n",
    "data_for_df = []\n",
    "search_radius = 5000\n",
    "\n",
    "next_page = ''\n",
    "pages = 10 \n",
    "counter = 0 #initialize counter\n",
    "while counter < pages:\n",
    "#for x in range(len(next_page)):\n",
    "    try:\n",
    "        test_places = gmaps.places(query = '',location = location, radius = search_radius, type = 'restaurant',page_token= next_page)\n",
    "        time.sleep(2)\n",
    "        print(next_page)\n",
    "        next_page = test_places['next_page_token']\n",
    "        data_for_df.append(test_places['results'])\n",
    "        print(data_for_df[counter])\n",
    "        #test = next_page\n",
    "        counter += 1\n",
    "    except KeyError:\n",
    "        data_for_df.append(test_places['results'])\n",
    "        print(len(data_for_df))\n",
    "        break"
   ]
  },
  {
   "cell_type": "code",
   "execution_count": null,
   "metadata": {},
   "outputs": [],
   "source": [
    "test_places = gmaps.places(query = '',location = location, radius = search_radius, type = 'restaurant')\n",
    "print(test_places)"
   ]
  },
  {
   "cell_type": "code",
   "execution_count": null,
   "metadata": {},
   "outputs": [],
   "source": [
    "len(data_for_df)"
   ]
  },
  {
   "cell_type": "code",
   "execution_count": null,
   "metadata": {},
   "outputs": [],
   "source": [
    "# example to retrieve more than one page of results\n",
    "data_for_df = []\n",
    "search_radius = 5000\n",
    "next_page = '' # initialize next page token for while\n",
    "pages = 2 # number of places search pages to retrieve\n",
    "counter = 0 #initialize counter\n",
    "#\n",
    "while counter < pages:\n",
    "    test_places = gmaps.places(query = '',location = location, radius = search_radius, type = 'restaurant',page_token=next_page)\n",
    "    next_page = test_places['next_page_token']\n",
    "    data_for_df.append(test_places['results'])\n",
    "    print(next_page)\n",
    "    test = next_page\n",
    "    counter += 1"
   ]
  },
  {
   "cell_type": "code",
   "execution_count": null,
   "metadata": {},
   "outputs": [],
   "source": [
    "len(data_for_df)"
   ]
  },
  {
   "cell_type": "code",
   "execution_count": null,
   "metadata": {},
   "outputs": [],
   "source": [
    "print(data_for_df[0])\n",
    "print(data_for_df[1])\n",
    "#single_list "
   ]
  },
  {
   "cell_type": "code",
   "execution_count": null,
   "metadata": {},
   "outputs": [],
   "source": [
    "df = pd.DataFrame(data_for_df)\n",
    "df.head()"
   ]
  },
  {
   "cell_type": "code",
   "execution_count": null,
   "metadata": {},
   "outputs": [],
   "source": [
    "for index, item in enumerate(test_places['results']):\n",
    "    print(index)\n",
    "    print(item)"
   ]
  },
  {
   "cell_type": "code",
   "execution_count": null,
   "metadata": {},
   "outputs": [],
   "source": [
    "# example on how to retrieve places results and insert into dataframe\n",
    "\n",
    "data_for_df = []\n",
    "data_for_df = test_places['results']\n",
    "df_test = pd.DataFrame(data_for_df)\n",
    "df_test.head()\n"
   ]
  },
  {
   "cell_type": "markdown",
   "metadata": {},
   "source": [
    "Google Maps Places API has a hard 60 results limiter per call. I have found a solution that involves developing an algorithim to search through a divided grid and sub dividing until less than 60 results are retrieved. However, the google maps api is not free so I need to look into another solution."
   ]
  }
 ],
 "metadata": {
  "kernelspec": {
   "display_name": "base",
   "language": "python",
   "name": "python3"
  },
  "language_info": {
   "codemirror_mode": {
    "name": "ipython",
    "version": 3
   },
   "file_extension": ".py",
   "mimetype": "text/x-python",
   "name": "python",
   "nbconvert_exporter": "python",
   "pygments_lexer": "ipython3",
   "version": "3.11.7"
  }
 },
 "nbformat": 4,
 "nbformat_minor": 2
}
