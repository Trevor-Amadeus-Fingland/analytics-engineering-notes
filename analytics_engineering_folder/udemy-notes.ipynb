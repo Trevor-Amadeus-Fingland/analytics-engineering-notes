{
 "cells": [
  {
   "cell_type": "markdown",
   "metadata": {},
   "source": [
    "__OverView__<br>\n",
    "Analytics Engineering was born out of the shift from ETL(Extract Transform Load) to ELT(Extract Load Transform). <br>\n",
    "General Team makeup and their education\n",
    "- Data Architect: Responsible for working with SMEs(Subject Matter Experts) and devising the blueprints of the data project.\n",
    "- Data Engineers: Build pipelines, infrastructure and data ingest. Typically software engineering background with skill in Java and/or Python.\n",
    "- Analytics Engineer: Responsible for data transformation and modeling so that it can easily be utilized.\n",
    "- BI analyst: Take the transformed data,develop business insights and create a semantic model.\n",
    "- Project Manager(PM): Responsible for project success in a timely manner.\n",
    "<br>\n",
    "Skills that should be developed in order of significance<br>\n",
    "1. SQL,Data Transforms, Data Warehousing and Data Modeling\n",
    "2. Data Orchestration(may be duty of data engineer), BI tools(like tableau), Version Control(github), communication\n",
    "3. Programming,CI/CD,Data Engineering<br>\n",
    "\n",
    "(_personal note_ Likely has something to do with shift from Warehouse to Lakehouse)"
   ]
  },
  {
   "cell_type": "markdown",
   "metadata": {},
   "source": [
    "__Databases__<br>\n",
    "Databases are managed by DBMS(Database Management System),which is a system that collects metadata on,stores databases and facilitates interaction with databases via SQL or navigation through an interface .Most SQL is ANSI(American National Standards Institute), though not all are, like HiveQL.<br><br>\n",
    "DBMSs were developed to handle various structural considerations that came into play when managing multiple databases, like access control based on user permissions. They can interact and contain more than relational DBs. Other DBs that can be stored are Flat File,Objects and Hiearchical. Common RDMBs are: MS SQL Server, MySQL,Oracle,Postgres,SQLite,MariaDB,AmazonRDS and Google CloudSql.\n"
   ]
  }
 ],
 "metadata": {
  "kernelspec": {
   "display_name": "base",
   "language": "python",
   "name": "python3"
  },
  "language_info": {
   "name": "python",
   "version": "3.11.4"
  },
  "orig_nbformat": 4
 },
 "nbformat": 4,
 "nbformat_minor": 2
}
