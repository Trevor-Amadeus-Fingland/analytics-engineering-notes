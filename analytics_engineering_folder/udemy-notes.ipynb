{
 "cells": [
  {
   "cell_type": "markdown",
   "metadata": {},
   "source": [
    "__OverView__<br>\n",
    "Analytics Engineering was born out of the shift from ETL(Extract Transform Load) to ELT(Extract Load Transform). <br>\n",
    "General Team makeup and their education\n",
    "- Data Architect: Responsible for working with SMEs(Subject Matter Experts) and devising the blueprints of the data project.\n",
    "- Data Engineers: Build pipelines, infrastructure and data ingest. Typically software engineering background with skill in Java and/or Python.\n",
    "- Analytics Engineer: Responsible for data transformation and modeling so that it can easily be utilized.\n",
    "- BI analyst: Take the transformed data,develop business insights and create a semantic model.\n",
    "- Project Manager(PM): Responsible for project success in a timely manner.\n",
    "<br>\n",
    "Skills that should be developed in order of significance<br>\n",
    "1. SQL,Data Transforms, Data Warehousing and Data Modeling\n",
    "2. Data Orchestration(may be duty of data engineer), BI tools(like tableau), Version Control(github), communication\n",
    "3. Programming,CI/CD,Data Engineering<br>\n",
    "\n",
    "(_personal note_ Likely has something to do with shift from Warehouse to Lakehouse)"
   ]
  },
  {
   "cell_type": "markdown",
   "metadata": {},
   "source": [
    "__Databases__<br>\n",
    "Databases are managed by DBMS(Database Management System),which is a system that collects metadata on,stores databases and facilitates interaction with databases via SQL or navigation through an interface .Most SQL is ANSI(American National Standards Institute), though not all are, like HiveQL.<br><br>\n",
    "DBMSs were developed to handle various structural considerations that came into play when managing multiple databases, like access control based on user permissions. They can interact and contain more than relational DBs. Other DBs that can be stored are Flat File,Objects and Hiearchical. Common RDMBs are: MS SQL Server, MySQL,Oracle,Postgres,SQLite,MariaDB,AmazonRDS and Google CloudSql. <br><br>\n",
    "Amazon RDS and Google CloudSql are somewhat different in that they are managed database services.\n",
    "These services provide their cloud database to scale your system in accordance with demand and obviate the need for maintenance of database system.\n"
   ]
  },
  {
   "cell_type": "markdown",
   "metadata": {},
   "source": [
    "__Sheets v Databases__<br>\n",
    "Databases cannot be modified like spreadsheets by simply editing a cell. It is necessary to use SQL via INSERT,DELETE,CREATE statements.<br><br>\n",
    "Differences between Spreadsheet and Database\n",
    "|SpreadSheet                                  | Database  |\n",
    "|---------------------------------------------|-----------|\n",
    "|Size limitation, approx 1M rows and 16k Cols | Size only limited by cost and resources|\n",
    "|Entire data set loaded                       | Dynamic i.e. only collects/changes what is queried|\n",
    "|Static unless macros/formulas are used |Dynamic, a single change will get propogated everywhere it's used|\n",
    "|Simple creation process                      | Can be complex dependent upon requirements|\n",
    "|Does not scale well,usually more error prone than a database,and metadata is either non-existent or poor| SQL operates the same regardless of table scale |\n",
    "\n",
    "<br><br>\n",
    "\n"
   ]
  },
  {
   "cell_type": "markdown",
   "metadata": {},
   "source": [
    "__OLTP__<br>\n",
    "Databases can be broken into two major types, SQL and NO-SQL(means NOT Only sql).NO-SQL is capable of dealing with semi-structured(JSONs/mappings) or unstructured(open-ended comments on a forum) data. It can also access structured data as well.<br><br>\n",
    "Relational OLTPs(OnLine Transaction Processing) is used in transactional data. Examples include CRM or banking data. This kind of processing excels in running insert, update and/or delete operations. Data is stored as rows and must be available 24/7.Due to the always online nature of the systems that use OLTP they also have substantial disaster recovery and backup systems.<br><br>\n",
    "The OLTP source is the original source of data and typically acts as a source of truth.Queries tend to be simplistic and usually only act on a few records at a time. An example is applying an update to a single customer record after they updated their phone number. Data is highly normalized with minimal data redundancies. <br><br>\n",
    "In brief, normalization is the process by which relationships are created between tables. The result is that redundancies are reduced, removes inconsistent data dependencies and preserves data integrity. An example of this process would breaking out a single sales table into smaller sub-tables. One table would be a lookup for customer details, the other details items in each individual order, and the last being a high-level overview of orders places. These can then be connected back to each other with a customer id or order id depending on what tables need to be joined for analysis.<br><br>\n",
    "Summary\n",
    "- OLTPs tend to utilize normalized tables\n",
    "- Multiple joins typically needdueto normalization\n",
    "- Schema and data types are defined ahead of time\n",
    "- Not good for reporting\n",
    "- OLTPs are ACID compliant\n",
    "- Optimized for collecting rather than aggregating data.\n"
   ]
  },
  {
   "cell_type": "markdown",
   "metadata": {},
   "source": [
    "__OLAP__\n",
    "Stands for Online Analytical Processing. They are used for analytical queries and as such are the workhorse for BI. Data is organized column by column rather than by row and column. Allows for data compression and faster data processing. In addition, searches to retrieve data do not need to go row by row, but can scan through columns instead.<br><br>\n",
    "Data is composed of OLTP databases and other third party data sources. Tables in OLAP tend to have less tables but are denormalized. Join minimization increases query performance. Examples of OLAP systems are Snowflake, Google Big Query, Firebolt and PostgresSQL."
   ]
  },
  {
   "cell_type": "markdown",
   "metadata": {},
   "source": [
    "__NO-SQL__\n",
    "These are non-relational databases and are usually used in tandem with relational databases. No-SQL databases come in a few flavors.\n",
    "- Key-Value stores: these are mappings where a unique key is called to retrieve data from the database. These are useful when data retrieval speed is important. Queries and data tend to not be complex. These are used in things like shopping carts, user sessions or  product recommendations.\n",
    "- Document Stores: This database stores records and data as a single document. There is no need for schema creation and scales well horizontally via sharding. These documents are JSON-like. Multiple documents are referred to as collections. They are good for product catalogs, web apps and e-commerce.\n",
    "- Wide Column stores: Stores data in columns instead of rows. The difference from OLAP is that the format of the columnns doesn't need to be consistent between columns. These systems are highly scalable. Columns only need not exist in every row like in OLAP. However, this functionality limits usage of the store. It shouldn't be used for ad-hoc or highly aggregated data sets. Used for doing real time analytics and timeseries data.\n",
    "- Graph Database: A database structured around relationships between entities. Entities are stored as nnodes and relationships are stored as edges. Information associated with nodes are called properties. Being centered on relationships allows for quick query access as they do not need to be calculated at query execution. This also allows for complex querying that will be independent of the data size. These are used in ML tools like Recommenders or NLPs.They can also be used for fraud detection, social networks or logistics.\n",
    "- Search Engine Databases: These are databases that allow for data retrieval via search tool. This could be a web search or full text search. Data is stored in a JSON document with no schema. Example use cases include full-text searchs, time series data, and auto suggestion/auto completion."
   ]
  },
  {
   "cell_type": "markdown",
   "metadata": {},
   "source": [
    "__On-Prem v Cloud__<br>\n",
    "On prem means that the database is running and installed within the orgainization. This requires engineers to maintain the systems. There may be a need for down time for upgrades and there is also a higher upfront cost due to the need to pay for all the tech and hardware."
   ]
  }
 ],
 "metadata": {
  "kernelspec": {
   "display_name": "base",
   "language": "python",
   "name": "python3"
  },
  "language_info": {
   "name": "python",
   "version": "3.11.4"
  },
  "orig_nbformat": 4
 },
 "nbformat": 4,
 "nbformat_minor": 2
}
