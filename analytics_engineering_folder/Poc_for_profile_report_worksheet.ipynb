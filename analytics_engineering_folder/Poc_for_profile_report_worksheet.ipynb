{
 "cells": [
  {
   "cell_type": "code",
   "execution_count": null,
   "metadata": {},
   "outputs": [],
   "source": [
    "from dotenv import load_dotenv\n",
    "import os \n",
    "\n",
    "SF_ACCOUNT    = os.getenv('SF_ACCOUNT')\n",
    "SF_USER       = os.getenv('SF_USER')\n"
   ]
  },
  {
   "cell_type": "code",
   "execution_count": null,
   "metadata": {},
   "outputs": [],
   "source": [
    "CONNECTION_PARAMETERS = {\n",
    "    'host': '',\n",
    "    'user': SF_USER,\n",
    "    'authenticator': 'externalbrowser',\n",
    "    'account': SF_ACCOUNT,\n",
    "    'warehouse': 'ANALYSIS_XL_WH',\n",
    "    'database': 'WAREHOUSE',\n",
    "    'schema': 'Analytics'\n",
    "} # host name omitted since it was Epic's snowflake domain."
   ]
  },
  {
   "cell_type": "code",
   "execution_count": null,
   "metadata": {},
   "outputs": [],
   "source": [
    "#import required modules\n",
    "from snowflake.snowpark import Session\n",
    "from ydata_profiling import ProfileReport\n",
    "from snowflake.snowpark.types import VariantType,StringType\n",
    "#from ipywidgets import widgets\n",
    "import pandas as pd\n",
    "import json as js\n",
    "\n",
    "def poc_fun(\n",
    "    snowpark_session:Session \n",
    "    ,table:str\n",
    "    ,col:str\n",
    "    ,where:str\n",
    "    ,limit:str = '1000'\n",
    "    \n",
    "\n",
    "    ):\n",
    "\n",
    "# generate sql query, convert to pandas and retrieve single column as pandas df\n",
    "  df_sf = snowpark_session.sql(\"\"\"Select %s from %s  where event_date_partition = %s  limit %s\"\"\"%(col,table,where,limit))\n",
    "  df_pd = df_sf.to_pandas() \n",
    "  single_col_df = df_pd[col.upper()].to_frame() \n",
    "\n",
    "  # run profile report,collect and return the report as a dict\n",
    "  report = ProfileReport(single_col_df)\n",
    "  json_report = report.to_json()\n",
    "  dict_report = js.loads(json_report)\n",
    "  return dict_report\n",
    "  "
   ]
  },
  {
   "cell_type": "code",
   "execution_count": null,
   "metadata": {},
   "outputs": [],
   "source": [
    "#import required modules\n",
    "from snowflake.snowpark import Session\n",
    "from ydata_profiling import ProfileReport\n",
    "from snowflake.snowpark.types import VariantType,StringType\n",
    "#from ipywidgets import widgets\n",
    "import pandas as pd\n",
    "import json as js\n",
    "from operator import itemgetter # Needed to retrieve all the necessary dict entries        \n",
    "from datetime import date\n",
    "def poc_fun_test(\n",
    "    snowpark_session:Session \n",
    "    ,table:str\n",
    "    ,col:str\n",
    "    ,filt:str\n",
    "    ,where:str = date.today()\n",
    "    ,where_end:str = date.today()\n",
    "    ,limit:int = 1000\n",
    "    \n",
    "\n",
    "    ):\n",
    "\n",
    "# generate sql query, convert to pandas and retrieve single column as pandas df\n",
    "  df_sf = snowpark_session.sql(\"\"\"Select %s from %s  where %s BETWEEN '%s' AND '%s' limit %s\"\"\"%(col,table,filt,where,where_end,limit))\n",
    "  df_pd = df_sf.to_pandas() \n",
    " # single_col_df = df_pd[col.upper()].to_frame() \n",
    "\n",
    "  # run profile report,collect and return the report as a dict\n",
    "  report = ProfileReport(df_pd,\n",
    "  missing_diagrams={\"bar\":False,\"matrix\":False,\"heatmap\":False,\"histogram\":False}\n",
    "  ,correlations={\n",
    "        \"auto\": {\"calculate\": False},\n",
    "        \"pearson\": {\"calculate\": False},\n",
    "        \"spearman\": {\"calculate\": False},\n",
    "        \"kendall\": {\"calculate\": False},\n",
    "        \"phi_k\": {\"calculate\": False},\n",
    "        \"cramers\": {\"calculate\": False},\n",
    "    }\n",
    "    ,interactions={\"continuous\":False} \n",
    "    ,sample = None\n",
    "    )\n",
    "  json_report = report.to_json()\n",
    "  dict_report = js.loads(json_report)\n",
    "  get_metrics_one = itemgetter(\"alerts\",\"duplicates\")(dict_report)\n",
    "  get_metrics_two = itemgetter(\"n_cells_missing\",\"n_duplicates\")(dict_report[\"table\"])\n",
    "\n",
    "  # will error out with key error if a string column is passed, so except handles that case.\n",
    "  try:\n",
    "    get_metrics_three =itemgetter(\"n_negative\",\"n_infinite\",\"n_zeros\",\"n_distinct\",\"n_unique\")(dict_report[\"variables\"][col.upper()])\n",
    "  except KeyError:\n",
    "    get_metrics_three =itemgetter(\"n_distinct\",\"n_unique\")(dict_report[\"variables\"][col.upper()])\n",
    "    get_metrics_three = (\"N/A\",\"N/A\",\"N/A\") + get_metrics_three\n",
    "\n",
    " \n",
    "  dict_merged ={\"num_missing\":get_metrics_two[0],\"num_duplicates\":get_metrics_two[1]\n",
    "  ,\"num_negative\":get_metrics_three[0],\"num_infinite\":get_metrics_three[1],\"num_zeros\":get_metrics_three[2],\n",
    "  \"num_distinct\":get_metrics_three[3],\"num_unique\":get_metrics_three[4],\"specific_duplicates\":get_metrics_one[1]\n",
    "  }\n",
    "  # metrics_merged = get_metrics_one+get_metrics_two+get_metrics_three\n",
    "  return dict_merged"
   ]
  },
  {
   "cell_type": "code",
   "execution_count": null,
   "metadata": {},
   "outputs": [],
   "source": [
    "poc_fun_test(session,'item_sales_daily_test_v6','template_id','purchase_date','2023-09-05','2023-09-05',1000)"
   ]
  },
  {
   "cell_type": "code",
   "execution_count": null,
   "metadata": {},
   "outputs": [],
   "source": [
    "print('Connecting to Snowflake...')\n",
    "session =  Session.builder.configs(CONNECTION_PARAMETERS).create()\n",
    "print('Connected Successfully!')"
   ]
  },
  {
   "cell_type": "code",
   "execution_count": null,
   "metadata": {},
   "outputs": [],
   "source": [
    "## Register Stored Produre in Snowflake\n",
    "### Add packages and data types\n",
    "## Kernel can bug out and keep trying to retrieve a folder you removed\n",
    "from snowflake.snowpark.types import VariantType,StringType,IntegerType\n",
    "session.add_packages('snowflake-snowpark-python','pandas','ydata-profiling','ipywidgets')\n",
    "# must only attach zip of desired library\n",
    "### Upload Stored Produre to Snowflake\n",
    "session.sproc.register(\n",
    "    func = poc_fun_test\n",
    "  , return_type = VariantType()\n",
    "  , input_types = [StringType(),StringType(),StringType(),StringType(),StringType(),IntegerType()]\n",
    "  , is_permanent = True\n",
    "  , name = 'poc_fun'\n",
    "  , replace = True\n",
    "  , stage_location = '@tfingland_stage')"
   ]
  }
 ],
 "metadata": {
  "kernelspec": {
   "display_name": "snowpark_env",
   "language": "python",
   "name": "python3"
  },
  "language_info": {
   "codemirror_mode": {
    "name": "ipython",
    "version": 3
   },
   "file_extension": ".py",
   "mimetype": "text/x-python",
   "name": "python",
   "nbconvert_exporter": "python",
   "pygments_lexer": "ipython3",
   "version": "3.11.7"
  },
  "orig_nbformat": 4
 },
 "nbformat": 4,
 "nbformat_minor": 2
}
